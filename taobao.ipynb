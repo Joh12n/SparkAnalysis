{
 "cells": [
  {
   "cell_type": "code",
   "execution_count": null,
   "id": "1edcf8cb-f62f-4b64-aae8-707a9b4aa792",
   "metadata": {},
   "outputs": [],
   "source": [
    "# 双十一淘宝美妆数据.csv 这个数据集是美妆店铺的双十一销售数据，\n",
    "#可以挖掘的纬度有日期、店铺，指标则有销售量、销售额、评论数等。"
   ]
  },
  {
   "cell_type": "code",
   "execution_count": 1,
   "id": "c6666857-ddf4-429e-a152-0834d9ff7cff",
   "metadata": {},
   "outputs": [
    {
     "data": {
      "text/html": [
       "<div>\n",
       "<style scoped>\n",
       "    .dataframe tbody tr th:only-of-type {\n",
       "        vertical-align: middle;\n",
       "    }\n",
       "\n",
       "    .dataframe tbody tr th {\n",
       "        vertical-align: top;\n",
       "    }\n",
       "\n",
       "    .dataframe thead th {\n",
       "        text-align: right;\n",
       "    }\n",
       "</style>\n",
       "<table border=\"1\" class=\"dataframe\">\n",
       "  <thead>\n",
       "    <tr style=\"text-align: right;\">\n",
       "      <th></th>\n",
       "      <th>update_time</th>\n",
       "      <th>id</th>\n",
       "      <th>title</th>\n",
       "      <th>price</th>\n",
       "      <th>sale_count</th>\n",
       "      <th>comment_count</th>\n",
       "      <th>店名</th>\n",
       "    </tr>\n",
       "  </thead>\n",
       "  <tbody>\n",
       "    <tr>\n",
       "      <th>0</th>\n",
       "      <td>2016/11/14</td>\n",
       "      <td>A18164178225</td>\n",
       "      <td>CHANDO/自然堂 雪域精粹纯粹滋润霜50g 补水保湿 滋润水润面霜</td>\n",
       "      <td>139.0</td>\n",
       "      <td>26719.0</td>\n",
       "      <td>2704.0</td>\n",
       "      <td>自然堂</td>\n",
       "    </tr>\n",
       "    <tr>\n",
       "      <th>1</th>\n",
       "      <td>2016/11/14</td>\n",
       "      <td>A18177105952</td>\n",
       "      <td>CHANDO/自然堂凝时鲜颜肌活乳液120ML 淡化细纹补水滋润专柜正品</td>\n",
       "      <td>194.0</td>\n",
       "      <td>8122.0</td>\n",
       "      <td>1492.0</td>\n",
       "      <td>自然堂</td>\n",
       "    </tr>\n",
       "    <tr>\n",
       "      <th>2</th>\n",
       "      <td>2016/11/14</td>\n",
       "      <td>A18177226992</td>\n",
       "      <td>CHANDO/自然堂活泉保湿修护精华水（滋润型135ml 补水控油爽肤水</td>\n",
       "      <td>99.0</td>\n",
       "      <td>12668.0</td>\n",
       "      <td>589.0</td>\n",
       "      <td>自然堂</td>\n",
       "    </tr>\n",
       "    <tr>\n",
       "      <th>3</th>\n",
       "      <td>2016/11/14</td>\n",
       "      <td>A18178033846</td>\n",
       "      <td>CHANDO/自然堂 男士劲爽控油洁面膏 100g 深层清洁  男士洗面奶</td>\n",
       "      <td>38.0</td>\n",
       "      <td>25805.0</td>\n",
       "      <td>4287.0</td>\n",
       "      <td>自然堂</td>\n",
       "    </tr>\n",
       "    <tr>\n",
       "      <th>4</th>\n",
       "      <td>2016/11/14</td>\n",
       "      <td>A18178045259</td>\n",
       "      <td>CHANDO/自然堂雪域精粹纯粹滋润霜（清爽型）50g补水保湿滋润霜</td>\n",
       "      <td>139.0</td>\n",
       "      <td>5196.0</td>\n",
       "      <td>618.0</td>\n",
       "      <td>自然堂</td>\n",
       "    </tr>\n",
       "  </tbody>\n",
       "</table>\n",
       "</div>"
      ],
      "text/plain": [
       "  update_time            id                                  title  price  \\\n",
       "0  2016/11/14  A18164178225    CHANDO/自然堂 雪域精粹纯粹滋润霜50g 补水保湿 滋润水润面霜  139.0   \n",
       "1  2016/11/14  A18177105952   CHANDO/自然堂凝时鲜颜肌活乳液120ML 淡化细纹补水滋润专柜正品  194.0   \n",
       "2  2016/11/14  A18177226992   CHANDO/自然堂活泉保湿修护精华水（滋润型135ml 补水控油爽肤水   99.0   \n",
       "3  2016/11/14  A18178033846  CHANDO/自然堂 男士劲爽控油洁面膏 100g 深层清洁  男士洗面奶   38.0   \n",
       "4  2016/11/14  A18178045259     CHANDO/自然堂雪域精粹纯粹滋润霜（清爽型）50g补水保湿滋润霜  139.0   \n",
       "\n",
       "   sale_count  comment_count   店名  \n",
       "0     26719.0         2704.0  自然堂  \n",
       "1      8122.0         1492.0  自然堂  \n",
       "2     12668.0          589.0  自然堂  \n",
       "3     25805.0         4287.0  自然堂  \n",
       "4      5196.0          618.0  自然堂  "
      ]
     },
     "execution_count": 1,
     "metadata": {},
     "output_type": "execute_result"
    }
   ],
   "source": [
    "import pandas as pd\n",
    "data2 = pd.read_csv('双十一淘宝美妆数据.csv')\n",
    "data2.head()"
   ]
  },
  {
   "cell_type": "code",
   "execution_count": 2,
   "id": "30639919-db41-44df-a8fe-9dc0c925ebdd",
   "metadata": {},
   "outputs": [
    {
     "name": "stdout",
     "output_type": "stream",
     "text": [
      "<class 'pandas.core.frame.DataFrame'>\n",
      "RangeIndex: 27598 entries, 0 to 27597\n",
      "Data columns (total 7 columns):\n",
      " #   Column         Non-Null Count  Dtype  \n",
      "---  ------         --------------  -----  \n",
      " 0   update_time    27598 non-null  object \n",
      " 1   id             27598 non-null  object \n",
      " 2   title          27598 non-null  object \n",
      " 3   price          27598 non-null  float64\n",
      " 4   sale_count     25244 non-null  float64\n",
      " 5   comment_count  25244 non-null  float64\n",
      " 6   店名             27598 non-null  object \n",
      "dtypes: float64(3), object(4)\n",
      "memory usage: 1.5+ MB\n"
     ]
    }
   ],
   "source": [
    "data2.info()  # 数据集情况 27598 条，7个字段"
   ]
  },
  {
   "cell_type": "code",
   "execution_count": 3,
   "id": "b255da9b-bf4d-422e-b8da-e935023bb1e0",
   "metadata": {},
   "outputs": [
    {
     "data": {
      "text/plain": [
       "update_time      86\n",
       "id               86\n",
       "title            86\n",
       "price            86\n",
       "sale_count       82\n",
       "comment_count    82\n",
       "店名               86\n",
       "dtype: int64"
      ]
     },
     "execution_count": 3,
     "metadata": {},
     "output_type": "execute_result"
    }
   ],
   "source": [
    "data2[data2.duplicated()].count() # 有86条完全重复数据 "
   ]
  },
  {
   "cell_type": "code",
   "execution_count": 4,
   "id": "a7c59714-f436-4f5d-9326-09404a9a74d4",
   "metadata": {},
   "outputs": [
    {
     "data": {
      "text/plain": [
       "update_time         0\n",
       "id                  0\n",
       "title               0\n",
       "price               0\n",
       "sale_count       2350\n",
       "comment_count    2350\n",
       "店名                  0\n",
       "dtype: int64"
      ]
     },
     "execution_count": 4,
     "metadata": {},
     "output_type": "execute_result"
    }
   ],
   "source": [
    "data2.drop_duplicates(inplace=True)   # 删除重复数据\n",
    "data2.reset_index(drop=True, inplace=True)  # 重建索引\n",
    "data2.isnull().sum()  # 查看空值 ，销售数量和评论数有空值"
   ]
  },
  {
   "cell_type": "code",
   "execution_count": 5,
   "id": "dcb53e5b-b642-4edd-8649-04f69c033bdb",
   "metadata": {},
   "outputs": [],
   "source": [
    "data2.fillna(0, inplace=True) # 空值填充\n",
    "data2['update_time'] = pd.to_datetime(data2['update_time']).apply(lambda x: x.strftime(\"%Y-%m-%d\")) # 日期格式化，便于统计"
   ]
  },
  {
   "cell_type": "code",
   "execution_count": 6,
   "id": "fb7ce7e4-b7b7-4976-b9a5-aa911bccd363",
   "metadata": {},
   "outputs": [
    {
     "data": {
      "text/html": [
       "<div>\n",
       "<style scoped>\n",
       "    .dataframe tbody tr th:only-of-type {\n",
       "        vertical-align: middle;\n",
       "    }\n",
       "\n",
       "    .dataframe tbody tr th {\n",
       "        vertical-align: top;\n",
       "    }\n",
       "\n",
       "    .dataframe thead th {\n",
       "        text-align: right;\n",
       "    }\n",
       "</style>\n",
       "<table border=\"1\" class=\"dataframe\">\n",
       "  <thead>\n",
       "    <tr style=\"text-align: right;\">\n",
       "      <th></th>\n",
       "      <th>update_time</th>\n",
       "      <th>id</th>\n",
       "      <th>title</th>\n",
       "      <th>price</th>\n",
       "      <th>sale_count</th>\n",
       "      <th>comment_count</th>\n",
       "      <th>店名</th>\n",
       "    </tr>\n",
       "  </thead>\n",
       "  <tbody>\n",
       "    <tr>\n",
       "      <th>27042</th>\n",
       "      <td>2016-11-05</td>\n",
       "      <td>A541190557158</td>\n",
       "      <td>Herborist/佰草集新美肌梦幻曲面贴膜3片 保湿补水</td>\n",
       "      <td>1.0</td>\n",
       "      <td>1.0</td>\n",
       "      <td>0.0</td>\n",
       "      <td>佰草集</td>\n",
       "    </tr>\n",
       "    <tr>\n",
       "      <th>1494</th>\n",
       "      <td>2016-11-10</td>\n",
       "      <td>A538981087285</td>\n",
       "      <td>【双II预售】资生堂 新透白色控霜 30ml</td>\n",
       "      <td>390.0</td>\n",
       "      <td>1.0</td>\n",
       "      <td>0.0</td>\n",
       "      <td>资生堂</td>\n",
       "    </tr>\n",
       "    <tr>\n",
       "      <th>24148</th>\n",
       "      <td>2016-11-09</td>\n",
       "      <td>A540190519057</td>\n",
       "      <td>【娇兰盛典】腮红亲密容和肌肤 裸妆感 自然持久玫瑰闰色腮红</td>\n",
       "      <td>420.0</td>\n",
       "      <td>1.0</td>\n",
       "      <td>0.0</td>\n",
       "      <td>娇兰</td>\n",
       "    </tr>\n",
       "    <tr>\n",
       "      <th>24147</th>\n",
       "      <td>2016-11-09</td>\n",
       "      <td>A540189922026</td>\n",
       "      <td>【娇兰盛典】丝柔蜜粉饼 营造细致透明妆感 柔滑细腻贴肤美颜</td>\n",
       "      <td>480.0</td>\n",
       "      <td>1.0</td>\n",
       "      <td>1.0</td>\n",
       "      <td>娇兰</td>\n",
       "    </tr>\n",
       "    <tr>\n",
       "      <th>16974</th>\n",
       "      <td>2016-11-05</td>\n",
       "      <td>A541166044768</td>\n",
       "      <td>L'OREAL欧莱雅卓韵霜时尚魅棕系列染发霜 富含炫闪因子蜜茶棕红棕</td>\n",
       "      <td>79.0</td>\n",
       "      <td>1.0</td>\n",
       "      <td>0.0</td>\n",
       "      <td>欧莱雅</td>\n",
       "    </tr>\n",
       "  </tbody>\n",
       "</table>\n",
       "</div>"
      ],
      "text/plain": [
       "      update_time             id                               title  price  \\\n",
       "27042  2016-11-05  A541190557158       Herborist/佰草集新美肌梦幻曲面贴膜3片 保湿补水    1.0   \n",
       "1494   2016-11-10  A538981087285              【双II预售】资生堂 新透白色控霜 30ml  390.0   \n",
       "24148  2016-11-09  A540190519057       【娇兰盛典】腮红亲密容和肌肤 裸妆感 自然持久玫瑰闰色腮红  420.0   \n",
       "24147  2016-11-09  A540189922026       【娇兰盛典】丝柔蜜粉饼 营造细致透明妆感 柔滑细腻贴肤美颜  480.0   \n",
       "16974  2016-11-05  A541166044768  L'OREAL欧莱雅卓韵霜时尚魅棕系列染发霜 富含炫闪因子蜜茶棕红棕   79.0   \n",
       "\n",
       "       sale_count  comment_count   店名  \n",
       "27042         1.0            0.0  佰草集  \n",
       "1494          1.0            0.0  资生堂  \n",
       "24148         1.0            0.0   娇兰  \n",
       "24147         1.0            1.0   娇兰  \n",
       "16974         1.0            0.0  欧莱雅  "
      ]
     },
     "execution_count": 6,
     "metadata": {},
     "output_type": "execute_result"
    }
   ],
   "source": [
    "data2[data2['sale_count']>0].sort_values(by=['sale_count']).head() # 从数据来看，sale_count 是销售量"
   ]
  },
  {
   "cell_type": "code",
   "execution_count": 7,
   "id": "8ce8af95-1559-4815-82ca-8ea5517a1a21",
   "metadata": {},
   "outputs": [
    {
     "data": {
      "text/html": [
       "<div>\n",
       "<style scoped>\n",
       "    .dataframe tbody tr th:only-of-type {\n",
       "        vertical-align: middle;\n",
       "    }\n",
       "\n",
       "    .dataframe tbody tr th {\n",
       "        vertical-align: top;\n",
       "    }\n",
       "\n",
       "    .dataframe thead th {\n",
       "        text-align: right;\n",
       "    }\n",
       "</style>\n",
       "<table border=\"1\" class=\"dataframe\">\n",
       "  <thead>\n",
       "    <tr style=\"text-align: right;\">\n",
       "      <th></th>\n",
       "      <th>update_time</th>\n",
       "      <th>id</th>\n",
       "      <th>title</th>\n",
       "      <th>price</th>\n",
       "      <th>sale_count</th>\n",
       "      <th>comment_count</th>\n",
       "      <th>店名</th>\n",
       "      <th>sale_amount</th>\n",
       "    </tr>\n",
       "  </thead>\n",
       "  <tbody>\n",
       "    <tr>\n",
       "      <th>27042</th>\n",
       "      <td>2016-11-05</td>\n",
       "      <td>A541190557158</td>\n",
       "      <td>Herborist/佰草集新美肌梦幻曲面贴膜3片 保湿补水</td>\n",
       "      <td>1.0</td>\n",
       "      <td>1.0</td>\n",
       "      <td>0.0</td>\n",
       "      <td>佰草集</td>\n",
       "      <td>1.0</td>\n",
       "    </tr>\n",
       "    <tr>\n",
       "      <th>1494</th>\n",
       "      <td>2016-11-10</td>\n",
       "      <td>A538981087285</td>\n",
       "      <td>【双II预售】资生堂 新透白色控霜 30ml</td>\n",
       "      <td>390.0</td>\n",
       "      <td>1.0</td>\n",
       "      <td>0.0</td>\n",
       "      <td>资生堂</td>\n",
       "      <td>390.0</td>\n",
       "    </tr>\n",
       "    <tr>\n",
       "      <th>24148</th>\n",
       "      <td>2016-11-09</td>\n",
       "      <td>A540190519057</td>\n",
       "      <td>【娇兰盛典】腮红亲密容和肌肤 裸妆感 自然持久玫瑰闰色腮红</td>\n",
       "      <td>420.0</td>\n",
       "      <td>1.0</td>\n",
       "      <td>0.0</td>\n",
       "      <td>娇兰</td>\n",
       "      <td>420.0</td>\n",
       "    </tr>\n",
       "    <tr>\n",
       "      <th>24147</th>\n",
       "      <td>2016-11-09</td>\n",
       "      <td>A540189922026</td>\n",
       "      <td>【娇兰盛典】丝柔蜜粉饼 营造细致透明妆感 柔滑细腻贴肤美颜</td>\n",
       "      <td>480.0</td>\n",
       "      <td>1.0</td>\n",
       "      <td>1.0</td>\n",
       "      <td>娇兰</td>\n",
       "      <td>480.0</td>\n",
       "    </tr>\n",
       "    <tr>\n",
       "      <th>16974</th>\n",
       "      <td>2016-11-05</td>\n",
       "      <td>A541166044768</td>\n",
       "      <td>L'OREAL欧莱雅卓韵霜时尚魅棕系列染发霜 富含炫闪因子蜜茶棕红棕</td>\n",
       "      <td>79.0</td>\n",
       "      <td>1.0</td>\n",
       "      <td>0.0</td>\n",
       "      <td>欧莱雅</td>\n",
       "      <td>79.0</td>\n",
       "    </tr>\n",
       "    <tr>\n",
       "      <th>...</th>\n",
       "      <td>...</td>\n",
       "      <td>...</td>\n",
       "      <td>...</td>\n",
       "      <td>...</td>\n",
       "      <td>...</td>\n",
       "      <td>...</td>\n",
       "      <td>...</td>\n",
       "      <td>...</td>\n",
       "    </tr>\n",
       "    <tr>\n",
       "      <th>17470</th>\n",
       "      <td>2016-11-10</td>\n",
       "      <td>A24304992630</td>\n",
       "      <td>德国妮维雅男士洗面奶控油祛痘印保湿去黑头去油清洁面乳液护肤品</td>\n",
       "      <td>42.0</td>\n",
       "      <td>1827562.0</td>\n",
       "      <td>200154.0</td>\n",
       "      <td>妮维雅</td>\n",
       "      <td>76757604.0</td>\n",
       "    </tr>\n",
       "    <tr>\n",
       "      <th>17339</th>\n",
       "      <td>2016-11-11</td>\n",
       "      <td>A24304992630</td>\n",
       "      <td>2瓶更划算*妮维雅男士洗面奶控油祛痘印保湿去黑头去油洁面乳护肤</td>\n",
       "      <td>35.0</td>\n",
       "      <td>1886100.0</td>\n",
       "      <td>199532.0</td>\n",
       "      <td>妮维雅</td>\n",
       "      <td>66013500.0</td>\n",
       "    </tr>\n",
       "    <tr>\n",
       "      <th>17228</th>\n",
       "      <td>2016-11-12</td>\n",
       "      <td>A24304992630</td>\n",
       "      <td>德国妮维雅男士洗面奶控油祛痘印保湿去黑头去油清洁面乳液护肤品</td>\n",
       "      <td>37.9</td>\n",
       "      <td>1920083.0</td>\n",
       "      <td>199062.0</td>\n",
       "      <td>妮维雅</td>\n",
       "      <td>72771145.7</td>\n",
       "    </tr>\n",
       "    <tr>\n",
       "      <th>17126</th>\n",
       "      <td>2016-11-13</td>\n",
       "      <td>A24304992630</td>\n",
       "      <td>德国妮维雅男士洗面奶控油祛痘印保湿去黑头去油清洁面乳液护肤品</td>\n",
       "      <td>37.9</td>\n",
       "      <td>1921582.0</td>\n",
       "      <td>198774.0</td>\n",
       "      <td>妮维雅</td>\n",
       "      <td>72827957.8</td>\n",
       "    </tr>\n",
       "    <tr>\n",
       "      <th>17026</th>\n",
       "      <td>2016-11-14</td>\n",
       "      <td>A24304992630</td>\n",
       "      <td>德国妮维雅男士洗面奶控油祛痘印保湿去黑头去油清洁面乳液护肤品</td>\n",
       "      <td>42.0</td>\n",
       "      <td>1923160.0</td>\n",
       "      <td>197949.0</td>\n",
       "      <td>妮维雅</td>\n",
       "      <td>80772720.0</td>\n",
       "    </tr>\n",
       "  </tbody>\n",
       "</table>\n",
       "<p>24398 rows × 8 columns</p>\n",
       "</div>"
      ],
      "text/plain": [
       "      update_time             id                               title  price  \\\n",
       "27042  2016-11-05  A541190557158       Herborist/佰草集新美肌梦幻曲面贴膜3片 保湿补水    1.0   \n",
       "1494   2016-11-10  A538981087285              【双II预售】资生堂 新透白色控霜 30ml  390.0   \n",
       "24148  2016-11-09  A540190519057       【娇兰盛典】腮红亲密容和肌肤 裸妆感 自然持久玫瑰闰色腮红  420.0   \n",
       "24147  2016-11-09  A540189922026       【娇兰盛典】丝柔蜜粉饼 营造细致透明妆感 柔滑细腻贴肤美颜  480.0   \n",
       "16974  2016-11-05  A541166044768  L'OREAL欧莱雅卓韵霜时尚魅棕系列染发霜 富含炫闪因子蜜茶棕红棕   79.0   \n",
       "...           ...            ...                                 ...    ...   \n",
       "17470  2016-11-10   A24304992630      德国妮维雅男士洗面奶控油祛痘印保湿去黑头去油清洁面乳液护肤品   42.0   \n",
       "17339  2016-11-11   A24304992630     2瓶更划算*妮维雅男士洗面奶控油祛痘印保湿去黑头去油洁面乳护肤   35.0   \n",
       "17228  2016-11-12   A24304992630      德国妮维雅男士洗面奶控油祛痘印保湿去黑头去油清洁面乳液护肤品   37.9   \n",
       "17126  2016-11-13   A24304992630      德国妮维雅男士洗面奶控油祛痘印保湿去黑头去油清洁面乳液护肤品   37.9   \n",
       "17026  2016-11-14   A24304992630      德国妮维雅男士洗面奶控油祛痘印保湿去黑头去油清洁面乳液护肤品   42.0   \n",
       "\n",
       "       sale_count  comment_count   店名  sale_amount  \n",
       "27042         1.0            0.0  佰草集          1.0  \n",
       "1494          1.0            0.0  资生堂        390.0  \n",
       "24148         1.0            0.0   娇兰        420.0  \n",
       "24147         1.0            1.0   娇兰        480.0  \n",
       "16974         1.0            0.0  欧莱雅         79.0  \n",
       "...           ...            ...  ...          ...  \n",
       "17470   1827562.0       200154.0  妮维雅   76757604.0  \n",
       "17339   1886100.0       199532.0  妮维雅   66013500.0  \n",
       "17228   1920083.0       199062.0  妮维雅   72771145.7  \n",
       "17126   1921582.0       198774.0  妮维雅   72827957.8  \n",
       "17026   1923160.0       197949.0  妮维雅   80772720.0  \n",
       "\n",
       "[24398 rows x 8 columns]"
      ]
     },
     "execution_count": 7,
     "metadata": {},
     "output_type": "execute_result"
    }
   ],
   "source": [
    "data2['sale_amount'] = data2['price'] * data2['sale_count']  # 增加一列销售额\n",
    "data2[data2['sale_count']>0].sort_values(by=['sale_count'])"
   ]
  },
  {
   "cell_type": "code",
   "execution_count": 8,
   "id": "65c34eca-1c62-427e-a6fb-8bae05d2d10f",
   "metadata": {},
   "outputs": [
    {
     "data": {
      "text/plain": [
       "'C:\\\\Users\\\\joh12n\\\\Desktop\\\\BigdataSpark\\\\OrderFromTmall\\\\每日整体销售量走势.html'"
      ]
     },
     "execution_count": 8,
     "metadata": {},
     "output_type": "execute_result"
    }
   ],
   "source": [
    "from pyecharts import options as opts\n",
    "from pyecharts.charts import Map, Timeline, Bar, Line, Pie\n",
    "from pyecharts.components import Table\n",
    "from pyecharts.options import ComponentTitleOpts\n",
    "\n",
    "result = data2.groupby('update_time').agg({'sale_count':'sum'}).to_dict()['sale_count']\n",
    "c = (\n",
    "    Line()\n",
    "    .add_xaxis(list(result.keys()))\n",
    "    .add_yaxis(\"销售量\", list(result.values()))\n",
    "    .set_series_opts(\n",
    "        areastyle_opts=opts.AreaStyleOpts(opacity=0.5),\n",
    "        label_opts=opts.LabelOpts(is_show=False),\n",
    "        markpoint_opts=opts.MarkPointOpts(\n",
    "            data=[\n",
    "                opts.MarkPointItem(type_=\"max\", name=\"最大值\"),\n",
    "                opts.MarkPointItem(type_=\"min\", name=\"最小值\"),\n",
    "                opts.MarkPointItem(type_=\"average\", name=\"平均值\"),\n",
    "            ]\n",
    "        ),\n",
    "    )\n",
    "    .set_global_opts(title_opts=opts.TitleOpts(title=\"每日整体销售量走势\"))\n",
    ")\n",
    "c.render(\"每日整体销售量走势.html\")"
   ]
  },
  {
   "cell_type": "code",
   "execution_count": 9,
   "id": "946da514-1317-4a86-bf98-f5056242748d",
   "metadata": {},
   "outputs": [
    {
     "data": {
      "text/plain": [
       "['2016-11-05',\n",
       " '2016-11-06',\n",
       " '2016-11-07',\n",
       " '2016-11-08',\n",
       " '2016-11-09',\n",
       " '2016-11-10',\n",
       " '2016-11-11',\n",
       " '2016-11-12',\n",
       " '2016-11-13',\n",
       " '2016-11-14']"
      ]
     },
     "execution_count": 9,
     "metadata": {},
     "output_type": "execute_result"
    }
   ],
   "source": [
    "dts = list(data2['update_time'].unique())\n",
    "dts.reverse()\n",
    "dts"
   ]
  },
  {
   "cell_type": "code",
   "execution_count": 10,
   "id": "5993f6a3-39ef-489d-8fe5-ca4b351fd71f",
   "metadata": {},
   "outputs": [
    {
     "data": {
      "text/plain": [
       "'C:\\\\Users\\\\joh12n\\\\Desktop\\\\BigdataSpark\\\\OrderFromTmall\\\\累计销售量Top10.html'"
      ]
     },
     "execution_count": 10,
     "metadata": {},
     "output_type": "execute_result"
    }
   ],
   "source": [
    "tl = Timeline()\n",
    "tl.add_schema(\n",
    "#         is_auto_play=True,\n",
    "        is_loop_play=False,\n",
    "        play_interval=500,\n",
    "    )\n",
    "for dt in dts:\n",
    "    item = data2[data2['update_time'] <= dt].groupby('店名').agg({'sale_count': 'sum', 'sale_amount': 'sum'}).sort_values(by='sale_count', ascending=False)[:10].sort_values(by='sale_count').to_dict()\n",
    "    bar = (\n",
    "        Bar()\n",
    "        .add_xaxis([*item['sale_count'].keys()])\n",
    "        .add_yaxis(\"销售量\", [round(val/10000,2) for val in item['sale_count'].values()], label_opts=opts.LabelOpts(position=\"right\", formatter='{@[1]/} 万'))\n",
    "        .add_yaxis(\"销售额\", [round(val/10000/10000,2) for val in item['sale_amount'].values()], label_opts=opts.LabelOpts(position=\"right\", formatter='{@[1]/} 亿元'))\n",
    "        .reversal_axis()\n",
    "        .set_global_opts(\n",
    "            title_opts=opts.TitleOpts(\"累计销售量排行 TOP10\")\n",
    "        )\n",
    "    )\n",
    "    tl.add(bar, dt)\n",
    "\n",
    "tl.render(\"累计销售量Top10.html\")"
   ]
  },
  {
   "cell_type": "code",
   "execution_count": 11,
   "id": "a56f7fa8-0a3e-4a78-b50f-5dbed03eb9e3",
   "metadata": {},
   "outputs": [
    {
     "data": {
      "text/plain": [
       "'C:\\\\Users\\\\joh12n\\\\Desktop\\\\BigdataSpark\\\\OrderFromTmall\\\\销量.html'"
      ]
     },
     "execution_count": 11,
     "metadata": {},
     "output_type": "execute_result"
    }
   ],
   "source": [
    "item = data2.groupby('店名').agg({'sale_count': 'sum'}).sort_values(by='sale_count', ascending=False)[:10].to_dict()['sale_count']\n",
    "item = {k: round(v/10000, 2) for k, v in item.items()}\n",
    "c = (\n",
    "    Pie()\n",
    "    .add(\"销量\", [*item.items()])\n",
    "    .set_series_opts(label_opts=opts.LabelOpts(formatter=\"{b}: {c} 万({d}%)\"))\n",
    ")\n",
    "c.render(\"销量.html\")"
   ]
  },
  {
   "cell_type": "code",
   "execution_count": 12,
   "id": "af044bd1-9478-467a-8637-ed39d050d13d",
   "metadata": {},
   "outputs": [
    {
     "data": {
      "text/plain": [
       "'C:\\\\Users\\\\joh12n\\\\Desktop\\\\BigdataSpark\\\\OrderFromTmall\\\\平均价格排行Top20.html'"
      ]
     },
     "execution_count": 12,
     "metadata": {},
     "output_type": "execute_result"
    }
   ],
   "source": [
    "item = data2.groupby('店名').agg({'price': 'mean'}).sort_values(by='price', ascending=False)[:20].sort_values(by='price').to_dict()\n",
    "c = (\n",
    "    Bar()\n",
    "    .add_xaxis([*item['price'].keys()])\n",
    "    .add_yaxis(\"销售量\", [round(v, 2) for v in item['price'].values()], label_opts=opts.LabelOpts(position=\"right\"))\n",
    "    .reversal_axis()\n",
    "    .set_global_opts(\n",
    "        title_opts=opts.TitleOpts(\"平均价格排行 TOP20\")\n",
    "    )\n",
    ")\n",
    "c.render(\"平均价格排行Top20.html\")"
   ]
  },
  {
   "cell_type": "code",
   "execution_count": null,
   "id": "8b03d3d5-bf2e-4236-9c1f-1d238939a02d",
   "metadata": {},
   "outputs": [],
   "source": []
  },
  {
   "cell_type": "code",
   "execution_count": null,
   "id": "f4db555a-a09d-46ef-bfa9-3e83466ee707",
   "metadata": {},
   "outputs": [],
   "source": []
  }
 ],
 "metadata": {
  "kernelspec": {
   "display_name": "DL",
   "language": "python",
   "name": "dl"
  },
  "language_info": {
   "codemirror_mode": {
    "name": "ipython",
    "version": 3
   },
   "file_extension": ".py",
   "mimetype": "text/x-python",
   "name": "python",
   "nbconvert_exporter": "python",
   "pygments_lexer": "ipython3",
   "version": "3.8.20"
  }
 },
 "nbformat": 4,
 "nbformat_minor": 5
}
